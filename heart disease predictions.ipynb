{
 "cells": [
  {
   "cell_type": "code",
   "execution_count": 1,
   "metadata": {},
   "outputs": [],
   "source": [
    "import pandas as pd\n",
    "import numpy as np\n",
    "from tensorflow.keras.models import Sequential\n",
    "from tensorflow.keras.layers import Dense\n",
    "from sklearn.preprocessing import StandardScaler\n",
    "from sklearn.model_selection import train_test_split\n",
    "from sklearn.metrics import precision_score, recall_score, f1_score, ndcg_score\n",
    "import statsmodels.api as sm"
   ]
  },
  {
   "cell_type": "code",
   "execution_count": 3,
   "metadata": {},
   "outputs": [],
   "source": [
    "# Load dataset\n",
    "df = pd.read_csv('heart.csv')\n",
    "x = df.iloc[:, :-1]\n",
    "y = df.iloc[:, -1]"
   ]
  },
  {
   "cell_type": "code",
   "execution_count": 4,
   "metadata": {},
   "outputs": [],
   "source": [
    "# Split the data\n",
    "x_train, x_test, y_train, y_test = train_test_split(x, y, test_size=0.2, random_state=334)"
   ]
  },
  {
   "cell_type": "code",
   "execution_count": 5,
   "metadata": {},
   "outputs": [],
   "source": [
    "# Standardize the data\n",
    "scaler = StandardScaler()\n",
    "x_train_scaled = scaler.fit_transform(x_train)\n",
    "x_test_scaled = scaler.transform(x_test)\n"
   ]
  },
  {
   "cell_type": "code",
   "execution_count": 6,
   "metadata": {},
   "outputs": [
    {
     "name": "stderr",
     "output_type": "stream",
     "text": [
      "C:\\Users\\vignesh\\AppData\\Roaming\\Python\\Python312\\site-packages\\keras\\src\\layers\\core\\dense.py:87: UserWarning: Do not pass an `input_shape`/`input_dim` argument to a layer. When using Sequential models, prefer using an `Input(shape)` object as the first layer in the model instead.\n",
      "  super().__init__(activity_regularizer=activity_regularizer, **kwargs)\n"
     ]
    }
   ],
   "source": [
    "# Build the Neural Network model\n",
    "model = Sequential([\n",
    "Dense(64, input_dim=x_train_scaled.shape[1], activation='relu'),\n",
    "Dense(32, activation='relu'),\n",
    "Dense(1, activation='sigmoid')\n",
    "])\n"
   ]
  },
  {
   "cell_type": "code",
   "execution_count": 7,
   "metadata": {},
   "outputs": [],
   "source": [
    "#Compile the model\n",
    "model.compile(optimizer='adam', loss='binary_crossentropy', metrics=['accuracy'])\n"
   ]
  },
  {
   "cell_type": "code",
   "execution_count": 8,
   "metadata": {},
   "outputs": [
    {
     "name": "stdout",
     "output_type": "stream",
     "text": [
      "Epoch 1/50\n",
      "\u001b[1m25/25\u001b[0m \u001b[32m━━━━━━━━━━━━━━━━━━━━\u001b[0m\u001b[37m\u001b[0m \u001b[1m3s\u001b[0m 14ms/step - accuracy: 0.5609 - loss: 0.7023 - val_accuracy: 0.8525 - val_loss: 0.5250\n",
      "Epoch 2/50\n",
      "\u001b[1m25/25\u001b[0m \u001b[32m━━━━━━━━━━━━━━━━━━━━\u001b[0m\u001b[37m\u001b[0m \u001b[1m0s\u001b[0m 4ms/step - accuracy: 0.8168 - loss: 0.4985 - val_accuracy: 0.8525 - val_loss: 0.4481\n",
      "Epoch 3/50\n",
      "\u001b[1m25/25\u001b[0m \u001b[32m━━━━━━━━━━━━━━━━━━━━\u001b[0m\u001b[37m\u001b[0m \u001b[1m0s\u001b[0m 4ms/step - accuracy: 0.8450 - loss: 0.4165 - val_accuracy: 0.8525 - val_loss: 0.4132\n",
      "Epoch 4/50\n",
      "\u001b[1m25/25\u001b[0m \u001b[32m━━━━━━━━━━━━━━━━━━━━\u001b[0m\u001b[37m\u001b[0m \u001b[1m0s\u001b[0m 4ms/step - accuracy: 0.8571 - loss: 0.3415 - val_accuracy: 0.8525 - val_loss: 0.4110\n",
      "Epoch 5/50\n",
      "\u001b[1m25/25\u001b[0m \u001b[32m━━━━━━━━━━━━━━━━━━━━\u001b[0m\u001b[37m\u001b[0m \u001b[1m0s\u001b[0m 4ms/step - accuracy: 0.8669 - loss: 0.3413 - val_accuracy: 0.8361 - val_loss: 0.4217\n",
      "Epoch 6/50\n",
      "\u001b[1m25/25\u001b[0m \u001b[32m━━━━━━━━━━━━━━━━━━━━\u001b[0m\u001b[37m\u001b[0m \u001b[1m0s\u001b[0m 4ms/step - accuracy: 0.8399 - loss: 0.3426 - val_accuracy: 0.8525 - val_loss: 0.4172\n",
      "Epoch 7/50\n",
      "\u001b[1m25/25\u001b[0m \u001b[32m━━━━━━━━━━━━━━━━━━━━\u001b[0m\u001b[37m\u001b[0m \u001b[1m0s\u001b[0m 4ms/step - accuracy: 0.8835 - loss: 0.2766 - val_accuracy: 0.8361 - val_loss: 0.4287\n",
      "Epoch 8/50\n",
      "\u001b[1m25/25\u001b[0m \u001b[32m━━━━━━━━━━━━━━━━━━━━\u001b[0m\u001b[37m\u001b[0m \u001b[1m0s\u001b[0m 4ms/step - accuracy: 0.8875 - loss: 0.2649 - val_accuracy: 0.8525 - val_loss: 0.4325\n",
      "Epoch 9/50\n",
      "\u001b[1m25/25\u001b[0m \u001b[32m━━━━━━━━━━━━━━━━━━━━\u001b[0m\u001b[37m\u001b[0m \u001b[1m0s\u001b[0m 4ms/step - accuracy: 0.8798 - loss: 0.2759 - val_accuracy: 0.8525 - val_loss: 0.4396\n",
      "Epoch 10/50\n",
      "\u001b[1m25/25\u001b[0m \u001b[32m━━━━━━━━━━━━━━━━━━━━\u001b[0m\u001b[37m\u001b[0m \u001b[1m0s\u001b[0m 4ms/step - accuracy: 0.9134 - loss: 0.2187 - val_accuracy: 0.8525 - val_loss: 0.4501\n",
      "Epoch 11/50\n",
      "\u001b[1m25/25\u001b[0m \u001b[32m━━━━━━━━━━━━━━━━━━━━\u001b[0m\u001b[37m\u001b[0m \u001b[1m0s\u001b[0m 4ms/step - accuracy: 0.8631 - loss: 0.2806 - val_accuracy: 0.8525 - val_loss: 0.4471\n",
      "Epoch 12/50\n",
      "\u001b[1m25/25\u001b[0m \u001b[32m━━━━━━━━━━━━━━━━━━━━\u001b[0m\u001b[37m\u001b[0m \u001b[1m0s\u001b[0m 4ms/step - accuracy: 0.9284 - loss: 0.2104 - val_accuracy: 0.8525 - val_loss: 0.4598\n",
      "Epoch 13/50\n",
      "\u001b[1m25/25\u001b[0m \u001b[32m━━━━━━━━━━━━━━━━━━━━\u001b[0m\u001b[37m\u001b[0m \u001b[1m0s\u001b[0m 4ms/step - accuracy: 0.9203 - loss: 0.2024 - val_accuracy: 0.8525 - val_loss: 0.4684\n",
      "Epoch 14/50\n",
      "\u001b[1m25/25\u001b[0m \u001b[32m━━━━━━━━━━━━━━━━━━━━\u001b[0m\u001b[37m\u001b[0m \u001b[1m0s\u001b[0m 4ms/step - accuracy: 0.9402 - loss: 0.1981 - val_accuracy: 0.8525 - val_loss: 0.4723\n",
      "Epoch 15/50\n",
      "\u001b[1m25/25\u001b[0m \u001b[32m━━━━━━━━━━━━━━━━━━━━\u001b[0m\u001b[37m\u001b[0m \u001b[1m0s\u001b[0m 4ms/step - accuracy: 0.9323 - loss: 0.2016 - val_accuracy: 0.8525 - val_loss: 0.4936\n",
      "Epoch 16/50\n",
      "\u001b[1m25/25\u001b[0m \u001b[32m━━━━━━━━━━━━━━━━━━━━\u001b[0m\u001b[37m\u001b[0m \u001b[1m0s\u001b[0m 4ms/step - accuracy: 0.9080 - loss: 0.2340 - val_accuracy: 0.8525 - val_loss: 0.4980\n",
      "Epoch 17/50\n",
      "\u001b[1m25/25\u001b[0m \u001b[32m━━━━━━━━━━━━━━━━━━━━\u001b[0m\u001b[37m\u001b[0m \u001b[1m0s\u001b[0m 4ms/step - accuracy: 0.9309 - loss: 0.2087 - val_accuracy: 0.8525 - val_loss: 0.5018\n",
      "Epoch 18/50\n",
      "\u001b[1m25/25\u001b[0m \u001b[32m━━━━━━━━━━━━━━━━━━━━\u001b[0m\u001b[37m\u001b[0m \u001b[1m0s\u001b[0m 4ms/step - accuracy: 0.9218 - loss: 0.2099 - val_accuracy: 0.8525 - val_loss: 0.5075\n",
      "Epoch 19/50\n",
      "\u001b[1m25/25\u001b[0m \u001b[32m━━━━━━━━━━━━━━━━━━━━\u001b[0m\u001b[37m\u001b[0m \u001b[1m0s\u001b[0m 4ms/step - accuracy: 0.9187 - loss: 0.1957 - val_accuracy: 0.8361 - val_loss: 0.5224\n",
      "Epoch 20/50\n",
      "\u001b[1m25/25\u001b[0m \u001b[32m━━━━━━━━━━━━━━━━━━━━\u001b[0m\u001b[37m\u001b[0m \u001b[1m0s\u001b[0m 4ms/step - accuracy: 0.9434 - loss: 0.1650 - val_accuracy: 0.8361 - val_loss: 0.5343\n",
      "Epoch 21/50\n",
      "\u001b[1m25/25\u001b[0m \u001b[32m━━━━━━━━━━━━━━━━━━━━\u001b[0m\u001b[37m\u001b[0m \u001b[1m0s\u001b[0m 4ms/step - accuracy: 0.9567 - loss: 0.1448 - val_accuracy: 0.8361 - val_loss: 0.5422\n",
      "Epoch 22/50\n",
      "\u001b[1m25/25\u001b[0m \u001b[32m━━━━━━━━━━━━━━━━━━━━\u001b[0m\u001b[37m\u001b[0m \u001b[1m0s\u001b[0m 4ms/step - accuracy: 0.9590 - loss: 0.1501 - val_accuracy: 0.8361 - val_loss: 0.5363\n",
      "Epoch 23/50\n",
      "\u001b[1m25/25\u001b[0m \u001b[32m━━━━━━━━━━━━━━━━━━━━\u001b[0m\u001b[37m\u001b[0m \u001b[1m0s\u001b[0m 4ms/step - accuracy: 0.9615 - loss: 0.1563 - val_accuracy: 0.8361 - val_loss: 0.5494\n",
      "Epoch 24/50\n",
      "\u001b[1m25/25\u001b[0m \u001b[32m━━━━━━━━━━━━━━━━━━━━\u001b[0m\u001b[37m\u001b[0m \u001b[1m0s\u001b[0m 4ms/step - accuracy: 0.9320 - loss: 0.1678 - val_accuracy: 0.8361 - val_loss: 0.5726\n",
      "Epoch 25/50\n",
      "\u001b[1m25/25\u001b[0m \u001b[32m━━━━━━━━━━━━━━━━━━━━\u001b[0m\u001b[37m\u001b[0m \u001b[1m0s\u001b[0m 4ms/step - accuracy: 0.9503 - loss: 0.1536 - val_accuracy: 0.8197 - val_loss: 0.5784\n",
      "Epoch 26/50\n",
      "\u001b[1m25/25\u001b[0m \u001b[32m━━━━━━━━━━━━━━━━━━━━\u001b[0m\u001b[37m\u001b[0m \u001b[1m0s\u001b[0m 4ms/step - accuracy: 0.9701 - loss: 0.1282 - val_accuracy: 0.8361 - val_loss: 0.5882\n",
      "Epoch 27/50\n",
      "\u001b[1m25/25\u001b[0m \u001b[32m━━━━━━━━━━━━━━━━━━━━\u001b[0m\u001b[37m\u001b[0m \u001b[1m0s\u001b[0m 4ms/step - accuracy: 0.9720 - loss: 0.1243 - val_accuracy: 0.8197 - val_loss: 0.6076\n",
      "Epoch 28/50\n",
      "\u001b[1m25/25\u001b[0m \u001b[32m━━━━━━━━━━━━━━━━━━━━\u001b[0m\u001b[37m\u001b[0m \u001b[1m0s\u001b[0m 6ms/step - accuracy: 0.9520 - loss: 0.1475 - val_accuracy: 0.8197 - val_loss: 0.6064\n",
      "Epoch 29/50\n",
      "\u001b[1m25/25\u001b[0m \u001b[32m━━━━━━━━━━━━━━━━━━━━\u001b[0m\u001b[37m\u001b[0m \u001b[1m0s\u001b[0m 4ms/step - accuracy: 0.9780 - loss: 0.1130 - val_accuracy: 0.8197 - val_loss: 0.6234\n",
      "Epoch 30/50\n",
      "\u001b[1m25/25\u001b[0m \u001b[32m━━━━━━━━━━━━━━━━━━━━\u001b[0m\u001b[37m\u001b[0m \u001b[1m0s\u001b[0m 4ms/step - accuracy: 0.9749 - loss: 0.1074 - val_accuracy: 0.8197 - val_loss: 0.6395\n",
      "Epoch 31/50\n",
      "\u001b[1m25/25\u001b[0m \u001b[32m━━━━━━━━━━━━━━━━━━━━\u001b[0m\u001b[37m\u001b[0m \u001b[1m0s\u001b[0m 4ms/step - accuracy: 0.9777 - loss: 0.1240 - val_accuracy: 0.8197 - val_loss: 0.6473\n",
      "Epoch 32/50\n",
      "\u001b[1m25/25\u001b[0m \u001b[32m━━━━━━━━━━━━━━━━━━━━\u001b[0m\u001b[37m\u001b[0m \u001b[1m0s\u001b[0m 4ms/step - accuracy: 0.9816 - loss: 0.0950 - val_accuracy: 0.8197 - val_loss: 0.6681\n",
      "Epoch 33/50\n",
      "\u001b[1m25/25\u001b[0m \u001b[32m━━━━━━━━━━━━━━━━━━━━\u001b[0m\u001b[37m\u001b[0m \u001b[1m0s\u001b[0m 4ms/step - accuracy: 0.9686 - loss: 0.1278 - val_accuracy: 0.8197 - val_loss: 0.6638\n",
      "Epoch 34/50\n",
      "\u001b[1m25/25\u001b[0m \u001b[32m━━━━━━━━━━━━━━━━━━━━\u001b[0m\u001b[37m\u001b[0m \u001b[1m0s\u001b[0m 4ms/step - accuracy: 0.9699 - loss: 0.1032 - val_accuracy: 0.8197 - val_loss: 0.6963\n",
      "Epoch 35/50\n",
      "\u001b[1m25/25\u001b[0m \u001b[32m━━━━━━━━━━━━━━━━━━━━\u001b[0m\u001b[37m\u001b[0m \u001b[1m0s\u001b[0m 4ms/step - accuracy: 0.9857 - loss: 0.0842 - val_accuracy: 0.8197 - val_loss: 0.7080\n",
      "Epoch 36/50\n",
      "\u001b[1m25/25\u001b[0m \u001b[32m━━━━━━━━━━━━━━━━━━━━\u001b[0m\u001b[37m\u001b[0m \u001b[1m0s\u001b[0m 4ms/step - accuracy: 0.9608 - loss: 0.1046 - val_accuracy: 0.8197 - val_loss: 0.7115\n",
      "Epoch 37/50\n",
      "\u001b[1m25/25\u001b[0m \u001b[32m━━━━━━━━━━━━━━━━━━━━\u001b[0m\u001b[37m\u001b[0m \u001b[1m0s\u001b[0m 4ms/step - accuracy: 0.9831 - loss: 0.0861 - val_accuracy: 0.8197 - val_loss: 0.7253\n",
      "Epoch 38/50\n",
      "\u001b[1m25/25\u001b[0m \u001b[32m━━━━━━━━━━━━━━━━━━━━\u001b[0m\u001b[37m\u001b[0m \u001b[1m0s\u001b[0m 4ms/step - accuracy: 0.9808 - loss: 0.0685 - val_accuracy: 0.8197 - val_loss: 0.7323\n",
      "Epoch 39/50\n",
      "\u001b[1m25/25\u001b[0m \u001b[32m━━━━━━━━━━━━━━━━━━━━\u001b[0m\u001b[37m\u001b[0m \u001b[1m0s\u001b[0m 4ms/step - accuracy: 0.9701 - loss: 0.0834 - val_accuracy: 0.8197 - val_loss: 0.7490\n",
      "Epoch 40/50\n",
      "\u001b[1m25/25\u001b[0m \u001b[32m━━━━━━━━━━━━━━━━━━━━\u001b[0m\u001b[37m\u001b[0m \u001b[1m0s\u001b[0m 4ms/step - accuracy: 0.9924 - loss: 0.0761 - val_accuracy: 0.8197 - val_loss: 0.7679\n",
      "Epoch 41/50\n",
      "\u001b[1m25/25\u001b[0m \u001b[32m━━━━━━━━━━━━━━━━━━━━\u001b[0m\u001b[37m\u001b[0m \u001b[1m0s\u001b[0m 4ms/step - accuracy: 0.9900 - loss: 0.0560 - val_accuracy: 0.8197 - val_loss: 0.7875\n",
      "Epoch 42/50\n",
      "\u001b[1m25/25\u001b[0m \u001b[32m━━━━━━━━━━━━━━━━━━━━\u001b[0m\u001b[37m\u001b[0m \u001b[1m0s\u001b[0m 4ms/step - accuracy: 0.9901 - loss: 0.0640 - val_accuracy: 0.8197 - val_loss: 0.7822\n",
      "Epoch 43/50\n",
      "\u001b[1m25/25\u001b[0m \u001b[32m━━━━━━━━━━━━━━━━━━━━\u001b[0m\u001b[37m\u001b[0m \u001b[1m0s\u001b[0m 4ms/step - accuracy: 0.9920 - loss: 0.0571 - val_accuracy: 0.8197 - val_loss: 0.8113\n",
      "Epoch 44/50\n",
      "\u001b[1m25/25\u001b[0m \u001b[32m━━━━━━━━━━━━━━━━━━━━\u001b[0m\u001b[37m\u001b[0m \u001b[1m0s\u001b[0m 4ms/step - accuracy: 0.9935 - loss: 0.0649 - val_accuracy: 0.8197 - val_loss: 0.8444\n",
      "Epoch 45/50\n",
      "\u001b[1m25/25\u001b[0m \u001b[32m━━━━━━━━━━━━━━━━━━━━\u001b[0m\u001b[37m\u001b[0m \u001b[1m0s\u001b[0m 4ms/step - accuracy: 0.9980 - loss: 0.0554 - val_accuracy: 0.8197 - val_loss: 0.8591\n",
      "Epoch 46/50\n",
      "\u001b[1m25/25\u001b[0m \u001b[32m━━━━━━━━━━━━━━━━━━━━\u001b[0m\u001b[37m\u001b[0m \u001b[1m0s\u001b[0m 4ms/step - accuracy: 0.9992 - loss: 0.0514 - val_accuracy: 0.8033 - val_loss: 0.8810\n",
      "Epoch 47/50\n",
      "\u001b[1m25/25\u001b[0m \u001b[32m━━━━━━━━━━━━━━━━━━━━\u001b[0m\u001b[37m\u001b[0m \u001b[1m0s\u001b[0m 4ms/step - accuracy: 0.9925 - loss: 0.0404 - val_accuracy: 0.8197 - val_loss: 0.8826\n",
      "Epoch 48/50\n",
      "\u001b[1m25/25\u001b[0m \u001b[32m━━━━━━━━━━━━━━━━━━━━\u001b[0m\u001b[37m\u001b[0m \u001b[1m0s\u001b[0m 4ms/step - accuracy: 1.0000 - loss: 0.0391 - val_accuracy: 0.8197 - val_loss: 0.8935\n",
      "Epoch 49/50\n",
      "\u001b[1m25/25\u001b[0m \u001b[32m━━━━━━━━━━━━━━━━━━━━\u001b[0m\u001b[37m\u001b[0m \u001b[1m0s\u001b[0m 4ms/step - accuracy: 0.9990 - loss: 0.0364 - val_accuracy: 0.8197 - val_loss: 0.9215\n",
      "Epoch 50/50\n",
      "\u001b[1m25/25\u001b[0m \u001b[32m━━━━━━━━━━━━━━━━━━━━\u001b[0m\u001b[37m\u001b[0m \u001b[1m0s\u001b[0m 4ms/step - accuracy: 1.0000 - loss: 0.0280 - val_accuracy: 0.8197 - val_loss: 0.9365\n"
     ]
    },
    {
     "data": {
      "text/plain": [
       "<keras.src.callbacks.history.History at 0x26ac673c140>"
      ]
     },
     "execution_count": 8,
     "metadata": {},
     "output_type": "execute_result"
    }
   ],
   "source": [
    "# Train the model\n",
    "model.fit(x_train_scaled, y_train, epochs=50, batch_size=10, validation_data=(x_test_scaled, \n",
    "y_test))\n"
   ]
  },
  {
   "cell_type": "code",
   "execution_count": 9,
   "metadata": {},
   "outputs": [
    {
     "name": "stdout",
     "output_type": "stream",
     "text": [
      "\u001b[1m2/2\u001b[0m \u001b[32m━━━━━━━━━━━━━━━━━━━━\u001b[0m\u001b[37m\u001b[0m \u001b[1m0s\u001b[0m 62ms/step\n"
     ]
    }
   ],
   "source": [
    "# Neural Network Predictions\n",
    "y_pred_nn = (model.predict(x_test_scaled) > 0.5).astype(int)\n"
   ]
  },
  {
   "cell_type": "code",
   "execution_count": 10,
   "metadata": {},
   "outputs": [],
   "source": [
    "# Logistic Regression using StatsModels\n",
    "x_train_const = sm.add_constant(x_train)\n",
    "x_test_const = sm.add_constant(x_test) # Add constant to the testing set"
   ]
  },
  {
   "cell_type": "code",
   "execution_count": 11,
   "metadata": {},
   "outputs": [
    {
     "name": "stdout",
     "output_type": "stream",
     "text": [
      "Optimization terminated successfully.\n",
      "         Current function value: 0.333407\n",
      "         Iterations 7\n"
     ]
    }
   ],
   "source": [
    "logit_model = sm.Logit(y_train, x_train_const)\n",
    "result = logit_model.fit()\n"
   ]
  },
  {
   "cell_type": "code",
   "execution_count": 13,
   "metadata": {},
   "outputs": [],
   "source": [
    "# Logistic Regression Predictions\n",
    "y_pred_logistic = (result.predict(x_test_const) > 0.5).astype(int)"
   ]
  },
  {
   "cell_type": "code",
   "execution_count": 16,
   "metadata": {},
   "outputs": [
    {
     "name": "stdout",
     "output_type": "stream",
     "text": [
      "Neural Network - Precision: 0.8333333333333334, Recall: 0.8064516129032258, F1 Score: 0.819672131147541\n",
      "Logistic Regression - Precision: 0.8387096774193549, Recall: 0.8387096774193549, F1 Score: 0.8387096774193549\n"
     ]
    }
   ],
   "source": [
    "# Accuracy Metrics\n",
    "def accuracy_metrics(y_true, y_pred):\n",
    "    precision = precision_score(y_true, y_pred)\n",
    "    recall = recall_score(y_true, y_pred)\n",
    "    f1 = f1_score(y_true, y_pred)\n",
    "    return precision, recall, f1\n",
    "precision_nn, recall_nn, f1_nn = accuracy_metrics(y_test, y_pred_nn)\n",
    "precision_logistic, recall_logistic, f1_logistic = accuracy_metrics(y_test, y_pred_logistic)\n",
    "print(f\"Neural Network - Precision: {precision_nn}, Recall: {recall_nn}, F1 Score: {f1_nn}\")\n",
    "print(f\"Logistic Regression - Precision: {precision_logistic}, Recall: {recall_logistic}, F1 Score: {f1_logistic}\")\n"
   ]
  },
  {
   "cell_type": "code",
   "execution_count": 19,
   "metadata": {},
   "outputs": [],
   "source": [
    "# Mean Reciprocal Rank (MRR)\n",
    "def mean_reciprocal_rank(y_true, y_pred):\n",
    "    ranks = []\n",
    "    for true, pred in zip(y_true, y_pred):\n",
    "        if true == pred:\n",
    "            ranks.append(1)\n",
    "    return np.mean(ranks)\n"
   ]
  },
  {
   "cell_type": "code",
   "execution_count": 20,
   "metadata": {},
   "outputs": [
    {
     "name": "stdout",
     "output_type": "stream",
     "text": [
      "Neural Network - MRR: 1.0\n",
      "Logistic Regression - MRR: 1.0\n"
     ]
    }
   ],
   "source": [
    "# Calculate MRR\n",
    "mrr_nn = mean_reciprocal_rank(y_test, y_pred_nn)\n",
    "mrr_logistic = mean_reciprocal_rank(y_test, y_pred_logistic)\n",
    "print(f\"Neural Network - MRR: {mrr_nn}\")\n",
    "print(f\"Logistic Regression - MRR: {mrr_logistic}\")\n"
   ]
  },
  {
   "cell_type": "code",
   "execution_count": 21,
   "metadata": {},
   "outputs": [],
   "source": [
    "from scipy.spatial.distance import pdist"
   ]
  },
  {
   "cell_type": "code",
   "execution_count": 22,
   "metadata": {},
   "outputs": [],
   "source": [
    "# Intra-List Diversity\n",
    "def intra_list_diversity(recommendations):\n",
    "    if len(recommendations) <= 1:\n",
    "        return 0\n",
    "    distances = pdist(recommendations, metric='cosine')\n",
    "    return np.mean(distances)\n"
   ]
  },
  {
   "cell_type": "code",
   "execution_count": 23,
   "metadata": {},
   "outputs": [],
   "source": [
    "# Inter-List Diversity\n",
    "def inter_list_diversity(recommendation_lists):\n",
    "    diversities = [intra_list_diversity(recommendations) for recommendations in recommendation_lists]\n",
    "    return np.mean(diversities)\n"
   ]
  },
  {
   "cell_type": "code",
   "execution_count": 24,
   "metadata": {},
   "outputs": [
    {
     "name": "stdout",
     "output_type": "stream",
     "text": [
      "\u001b[1m2/2\u001b[0m \u001b[32m━━━━━━━━━━━━━━━━━━━━\u001b[0m\u001b[37m\u001b[0m \u001b[1m0s\u001b[0m 3ms/step \n"
     ]
    }
   ],
   "source": [
    "# Assuming recommendations_nn and recommendations_logistic are the recommendation lists\n",
    "recommendations_nn = model.predict(x_test_scaled) # Assuming these are item representations\n",
    "recommendations_logistic = result.predict(x_test_const)\n"
   ]
  },
  {
   "cell_type": "code",
   "execution_count": 25,
   "metadata": {},
   "outputs": [],
   "source": [
    "# Convert Pandas Series to NumPy array\n",
    "recommendations_logistic = recommendations_logistic.values"
   ]
  },
  {
   "cell_type": "code",
   "execution_count": 29,
   "metadata": {},
   "outputs": [],
   "source": [
    "# Reshape recommendations_nn and recommendations_logistic if necessary\n",
    "recommendations_nn = recommendations_nn.reshape(-1, 1) if len(recommendations_nn.shape) == 1 else recommendations_nn\n",
    "recommendations_logistic = recommendations_logistic.reshape(-1, 1) if len(recommendations_logistic.shape) == 1 else recommendations_logistic\n"
   ]
  },
  {
   "cell_type": "code",
   "execution_count": 31,
   "metadata": {},
   "outputs": [
    {
     "name": "stdout",
     "output_type": "stream",
     "text": [
      "Neural Network - Intra-List Diversity: 0.0, Inter-List Diversity: 0.0\n",
      "Logistic Regression - Intra-List Diversity: 0.0, Inter-List Diversity: 0.0\n"
     ]
    }
   ],
   "source": [
    "# Calculate diversity metrics\n",
    "intra_div_nn = intra_list_diversity(recommendations_nn)\n",
    "intra_div_logistic = intra_list_diversity(recommendations_logistic)\n",
    "inter_div_nn = inter_list_diversity([recommendations_nn])\n",
    "inter_div_logistic = inter_list_diversity([recommendations_logistic])\n",
    "print(f\"Neural Network - Intra-List Diversity: {intra_div_nn}, Inter-List Diversity: {inter_div_nn}\")\n",
    "print(f\"Logistic Regression - Intra-List Diversity: {intra_div_logistic}, Inter-List Diversity: {inter_div_logistic}\")\n"
   ]
  },
  {
   "cell_type": "code",
   "execution_count": 33,
   "metadata": {},
   "outputs": [
    {
     "name": "stdout",
     "output_type": "stream",
     "text": [
      "Column 'popularity' not found in DataFrame.\n"
     ]
    }
   ],
   "source": [
    "# Assuming you have a popularity measure for your items\n",
    "# Replace 'popularity' with the correct column name representing item popularity in your DataFrame\n",
    "item_popularity_column = 'popularity'\n",
    "if item_popularity_column in df.columns:\n",
    "    item_popularity = df[item_popularity_column].values \n",
    "else:\n",
    "    print(\"Column 'popularity' not found in DataFrame.\")\n"
   ]
  },
  {
   "cell_type": "code",
   "execution_count": 34,
   "metadata": {},
   "outputs": [],
   "source": [
    "# Average Popularity\n",
    "def average_popularity(recommendations, item_popularity):\n",
    "    return np.mean([item_popularity[item] for item in recommendations])\n",
    "# Novelty Score (inverse of popularity)\n",
    "def novelty_score(recommendations, item_popularity):\n",
    "    return np.mean([1 / item_popularity[item] for item in recommendations])"
   ]
  },
  {
   "cell_type": "code",
   "execution_count": 35,
   "metadata": {},
   "outputs": [],
   "source": [
    "# Convert predictions to indices of recommended items\n",
    "indices_nn = np.where(y_pred_nn == 1)[0]\n",
    "indices_logistic = np.where(y_pred_logistic == 1)[0]\n"
   ]
  },
  {
   "cell_type": "code",
   "execution_count": 37,
   "metadata": {},
   "outputs": [
    {
     "name": "stdout",
     "output_type": "stream",
     "text": [
      "item_popularity is not defined.\n"
     ]
    }
   ],
   "source": [
    "# Check if item_popularity is defined before using it\n",
    "if 'item_popularity' in locals():\n",
    "    avg_popularity_nn = average_popularity(indices_nn, item_popularity)\n",
    "    avg_popularity_logistic = average_popularity(indices_logistic, item_popularity)\n",
    "    novelty_nn = novelty_score(indices_nn, item_popularity)\n",
    "    novelty_logistic = novelty_score(indices_logistic, item_popularity)\n",
    "    print(f\"Neural Network - Average Popularity: {avg_popularity_nn}, Novelty Score: {novelty_nn}\")\n",
    "    print(f\"Logistic Regression - Average Popularity: {avg_popularity_logistic}, Novelty Score: {novelty_logistic}\")\n",
    "else:\n",
    "    print(\"item_popularity is not defined.\")"
   ]
  },
  {
   "cell_type": "code",
   "execution_count": 39,
   "metadata": {},
   "outputs": [
    {
     "data": {
      "image/png": "[encoded data removed]",
      "text/plain": [
       "<Figure size 1400x600 with 2 Axes>"
      ]
     },
     "metadata": {},
     "output_type": "display_data"
    }
   ],
   "source": [
    "# Visualization\n",
    "metrics = ['Precision', 'Recall', 'F1 Score', 'MRR']\n",
    "nn_metrics = [precision_nn, recall_nn, f1_nn, mrr_nn]\n",
    "logistic_metrics = [precision_logistic, recall_logistic, f1_logistic, mrr_logistic]\n",
    "\n",
    "diversity_metrics = ['Intra-List Diversity', 'Inter-List Diversity']\n",
    "nn_diversity = [intra_div_nn, inter_div_nn]\n",
    "logistic_diversity = [intra_div_logistic, inter_div_logistic]\n",
    "\n",
    "if 'item_popularity' in locals():\n",
    "    popularity_metrics = ['Average Popularity', 'Novelty Score']\n",
    "    nn_popularity = [avg_popularity_nn, novelty_nn]\n",
    "    logistic_popularity = [avg_popularity_logistic, novelty_logistic]\n",
    "\n",
    "# Plotting the metrics\n",
    "plt.figure(figsize=(14, 6))\n",
    "\n",
    "plt.subplot(1, 2, 1)\n",
    "x = np.arange(len(metrics))\n",
    "width = 0.35\n",
    "plt.bar(x - width/2, nn_metrics, width, label='Neural Network')\n",
    "plt.bar(x + width/2, logistic_metrics, width, label='Logistic Regression')\n",
    "plt.xticks(x, metrics)\n",
    "plt.ylabel('Score')\n",
    "plt.title('Model Performance Metrics')\n",
    "plt.legend()\n",
    "\n",
    "plt.subplot(1, 2, 2)\n",
    "x = np.arange(len(diversity_metrics))\n",
    "plt.bar(x - width/2, nn_diversity, width, label='Neural Network')\n",
    "plt.bar(x + width/2, logistic_diversity, width, label='Logistic Regression')\n",
    "plt.xticks(x, diversity_metrics)\n",
    "plt.ylabel('Score')\n",
    "plt.title('Diversity Metrics')\n",
    "plt.legend()\n",
    "\n",
    "plt.tight_layout()\n",
    "plt.show()\n",
    "\n",
    "if 'item_popularity' in locals():\n",
    "    plt.figure(figsize=(8, 4))\n",
    "\n",
    "    x = np.arange(len(popularity_metrics))\n",
    "    plt.bar(x - width/2, nn_popularity, width, label='Neural Network')\n",
    "    plt.bar(x + width/2, logistic_popularity, width, label='Logistic Regression')\n",
    "    plt.xticks(x, popularity_metrics)\n",
    "    plt.ylabel('Score')\n",
    "    plt.title('Popularity and Novelty Metrics')\n",
    "    plt.legend()\n",
    "\n",
    "    plt.tight_layout()\n",
    "    plt.show()"
   ]
  }
 ],
 "metadata": {
  "kernelspec": {
   "display_name": "Python 3",
   "language": "python",
   "name": "python3"
  },
  "language_info": {
   "codemirror_mode": {
    "name": "ipython",
    "version": 3
   },
   "file_extension": ".py",
   "mimetype": "text/x-python",
   "name": "python",
   "nbconvert_exporter": "python",
   "pygments_lexer": "ipython3",
   "version": "3.12.4"
  }
 },
 "nbformat": 4,
 "nbformat_minor": 2
}
